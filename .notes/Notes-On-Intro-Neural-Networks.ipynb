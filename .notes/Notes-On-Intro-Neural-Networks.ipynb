{
 "nbformat": 4,
 "nbformat_minor": 2,
 "metadata": {
  "language_info": {
   "name": "python",
   "codemirror_mode": {
    "name": "ipython",
    "version": 3
   }
  },
  "orig_nbformat": 2,
  "file_extension": ".py",
  "mimetype": "text/x-python",
  "name": "python",
  "npconvert_exporter": "python",
  "pygments_lexer": "ipython3",
  "version": 3
 },
 "cells": [
  {
   "cell_type": "markdown",
   "metadata": {},
   "source": [
    "# Notes on Lesson 2: Introduction to Neural Networks\n",
    "\n",
    "\n",
    "## Activation function for continuous prediction\n",
    "\n",
    "__Sigmoid function__ is used for 2 classes (https://deepai.org/machine-learning-glossary-and-terms/sigmoid-function)\n",
    "\n",
    "__Softmax function__ for 3+ classes\n",
    "\n",
    "\n",
    "## Classification\n",
    "\n",
    "First calculate __score__ with a linear function ($ Wx + B $).\n",
    "\n",
    "Then calculate $ prediction(score) $ eg. $ sigma(score) $ or $ softmax(score) $."
   ]
  }
 ]
}